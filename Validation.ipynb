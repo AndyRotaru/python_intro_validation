{
 "cells": [
  {
   "cell_type": "markdown",
   "metadata": {},
   "source": [
    "# Developing validation techniques in Python "
   ]
  },
  {
   "cell_type": "code",
   "execution_count": null,
   "metadata": {},
   "outputs": [],
   "source": [
    "age = int(input(\"How old are you? \")"
   ]
  },
  {
   "cell_type": "markdown",
   "metadata": {},
   "source": [
    "### 1) Fix the error above.\n",
    "### 2) What is the error that Python throws if you enter an alpha letter as your age?"
   ]
  },
  {
   "cell_type": "code",
   "execution_count": null,
   "metadata": {},
   "outputs": [],
   "source": [
    "print(\"Welcome to my robust user input validation!\")\n",
    "try:\n",
    "    age = int(input(\"Please enter your age as a number between 14 & 100: \"))\n",
    "except ValueError:\n",
    "    print \"Not a valid number!\"\n",
    "    "
   ]
  },
  {
   "cell_type": "markdown",
   "metadata": {},
   "source": [
    "### 3) Fix the code above\n",
    "\n",
    "Use a try statement before you write code that might crash.\n",
    "In the example above int() will raise a ValueError if the user enters text like “a”.\n",
    "“Except” the error that will happen. In this case it’s a ValueError\n",
    "Deal with the error robustly (don’t crash!) - give the user a descriptive error message."
   ]
  },
  {
   "cell_type": "code",
   "execution_count": null,
   "metadata": {},
   "outputs": [],
   "source": [
    "print(\"Welcome to my robust user input validation!\")\n",
    "try:\n",
    "    age = int(input(\"Please enter your age as a number between 14 & 100: \"))\n",
    "except ValueError:\n",
    "    print \"Not a valid number!\""
   ]
  },
  {
   "cell_type": "markdown",
   "metadata": {},
   "source": [
    "### 4) OK, the code above still doesn't do anything about someone entering an age of 10. Add code above so that if the age isn't between 14 and 100 then it outputs a message saying \"Age must be 14 or greater and less than 100\".\n",
    "Your code should be robust enough to correctly work for the following inputs: 8, 14, 100 and 101"
   ]
  },
  {
   "cell_type": "markdown",
   "metadata": {},
   "source": [
    "### 5) Use of a loop in Validation.\n",
    "Our code is no good at the moment, because it doesn't let a user re-enter a value that does not pass validation.\n",
    "\n",
    "Continue in a loop to allow the user to enter data again and again until it’s valid.\n",
    "\n",
    "Use the code below to add a loop around your existing code. We use a boolean variable to confirm whether the data is valid or not."
   ]
  },
  {
   "cell_type": "code",
   "execution_count": null,
   "metadata": {},
   "outputs": [],
   "source": [
    "#always start by assuming the input is not value\n",
    "valid = False\n",
    "#use a while loop - you don't know how many times the user will get the input wrong\n",
    "while not valid:\n",
    "    \n",
    "    # code goes here\n",
    "    \n",
    "    \n",
    "    valid = True # you need to work out where to put this code!!\n",
    "    \n",
    "    \n",
    "    "
   ]
  },
  {
   "cell_type": "markdown",
   "metadata": {},
   "source": [
    "### 5) Now you need to add code to extend your program so that it asks for their name, does not crash and checks whether the data input is valid or not - and asks again if not. \n",
    "\n",
    "This code below could be useful to you."
   ]
  },
  {
   "cell_type": "code",
   "execution_count": null,
   "metadata": {},
   "outputs": [],
   "source": [
    "test = \"bob\"\n",
    "\n",
    "if test.isalpha():\n",
    "    print(\"True\")"
   ]
  },
  {
   "cell_type": "markdown",
   "metadata": {},
   "source": [
    "### 6) Now extend the program so that:\n",
    "#### a) It asks for a password and checks to ensure the password is of sufficient complexity\n",
    "#### b) It asks for the password to be entered twice to ensure it has been entered correctly.\n",
    "\n",
    "This code below could be useful to you."
   ]
  },
  {
   "cell_type": "code",
   "execution_count": null,
   "metadata": {},
   "outputs": [],
   "source": [
    "password = \"qu!t3g00d\"\n",
    "specialchars = \"!£$%&#@\"\n",
    "\n",
    "for letter in specialchars:\n",
    "    if letter in password:\n",
    "        print(\"Password has a special character\")"
   ]
  }
 ],
 "metadata": {
  "kernelspec": {
   "display_name": "Python 3",
   "language": "python",
   "name": "python3"
  },
  "language_info": {
   "codemirror_mode": {
    "name": "ipython",
    "version": 3
   },
   "file_extension": ".py",
   "mimetype": "text/x-python",
   "name": "python",
   "nbconvert_exporter": "python",
   "pygments_lexer": "ipython3",
   "version": "3.6.9"
  }
 },
 "nbformat": 4,
 "nbformat_minor": 4
}
